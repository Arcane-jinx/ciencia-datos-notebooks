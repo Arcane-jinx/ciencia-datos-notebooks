{
  "nbformat": 4,
  "nbformat_minor": 0,
  "metadata": {
    "colab": {
      "provenance": [],
      "authorship_tag": "ABX9TyNOdMV8q3Ue3horgUG7ajRV",
      "include_colab_link": true
    },
    "kernelspec": {
      "name": "python3",
      "display_name": "Python 3"
    },
    "language_info": {
      "name": "python"
    }
  },
  "cells": [
    {
      "cell_type": "markdown",
      "metadata": {
        "id": "view-in-github",
        "colab_type": "text"
      },
      "source": [
        "<a href=\"https://colab.research.google.com/github/Arcane-jinx/ciencia-datos-notebooks/blob/main/cuadernos_de_ciencia_datos.ipynb\" target=\"_parent\"><img src=\"https://colab.research.google.com/assets/colab-badge.svg\" alt=\"Open In Colab\"/></a>"
      ]
    },
    {
      "cell_type": "code",
      "execution_count": 1,
      "metadata": {
        "colab": {
          "base_uri": "https://localhost:8080/"
        },
        "id": "yE0utwLZwWvj",
        "outputId": "ae6c5bf3-d207-477d-92b6-cd8be9b35314"
      },
      "outputs": [
        {
          "output_type": "stream",
          "name": "stdout",
          "text": [
            "ciencia-datos-notebooks commit con google Colab\n"
          ]
        }
      ],
      "source": [
        "print(\"ciencia-datos-notebooks commit con google Colab\")"
      ]
    }
  ]
}