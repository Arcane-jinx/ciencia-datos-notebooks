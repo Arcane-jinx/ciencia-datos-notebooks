{
  "nbformat": 4,
  "nbformat_minor": 0,
  "metadata": {
    "colab": {
      "provenance": [],
      "authorship_tag": "ABX9TyP6LZAQTdxBv+rbbPY8rDEj",
      "include_colab_link": true
    },
    "kernelspec": {
      "name": "python3",
      "display_name": "Python 3"
    },
    "language_info": {
      "name": "python"
    }
  },
  "cells": [
    {
      "cell_type": "markdown",
      "metadata": {
        "id": "view-in-github",
        "colab_type": "text"
      },
      "source": [
        "<a href=\"https://colab.research.google.com/github/Arcane-jinx/ciencia-datos-notebooks/blob/MiPrimeraRama/cuadernos_de_ciencia_datos.ipynb\" target=\"_parent\"><img src=\"https://colab.research.google.com/assets/colab-badge.svg\" alt=\"Open In Colab\"/></a>"
      ]
    },
    {
      "cell_type": "code",
      "execution_count": 2,
      "metadata": {
        "colab": {
          "base_uri": "https://localhost:8080/"
        },
        "id": "yE0utwLZwWvj",
        "outputId": "98f5ff4d-9ec8-49a3-881f-cb5f124ac8e2"
      },
      "outputs": [
        {
          "output_type": "stream",
          "name": "stdout",
          "text": [
            "ciencia-datos-notebooks commit con google Colab\n"
          ]
        }
      ],
      "source": [
        "print(\"ciencia-datos-notebooks commit con google Colab\")"
      ]
    },
    {
      "cell_type": "code",
      "source": [
        "print(\"Mi segundo Commin ciencia-datos-notebooks con google Colab\")"
      ],
      "metadata": {
        "colab": {
          "base_uri": "https://localhost:8080/"
        },
        "id": "dFEKkInyUwv1",
        "outputId": "f4f41504-6a0f-44e5-a264-60a1a2d436a9"
      },
      "execution_count": 3,
      "outputs": [
        {
          "output_type": "stream",
          "name": "stdout",
          "text": [
            "Mi segundo Commin ciencia-datos-notebooks con google Colab\n"
          ]
        }
      ]
    }
  ]
}